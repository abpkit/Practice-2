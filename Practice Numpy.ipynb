{
 "cells": [
  {
   "cell_type": "raw",
   "metadata": {},
   "source": [
    " Let’s see another example of reshaping a NumPy array from lower to higher\n",
    " dimensions. The following script defines a NumPy array of shape (4,6). The original ar\n",
    " is then reshaped to a three-dimensional array of shape (3, 4, 2). Notice here\n",
    " again that the product of dimensions of the original array (4 x 6) and the\n",
    " reshaped array (3 x 4 x 2) is the same, i.e., 24."
   ]
  },
  {
   "cell_type": "code",
   "execution_count": 1,
   "metadata": {},
   "outputs": [
    {
     "name": "stdout",
     "output_type": "stream",
     "text": [
      "two-dimensional array\n",
      "[[16 19 19 13  4  4]\n",
      " [ 5 18  6 10 14 16]\n",
      " [18 10  8 17 11  5]\n",
      " [ 2  9 11  6 10 10]]\n",
      "\n",
      "three-dimensional array\n",
      "[[[16 19]\n",
      "  [19 13]\n",
      "  [ 4  4]\n",
      "  [ 5 18]]\n",
      "\n",
      " [[ 6 10]\n",
      "  [14 16]\n",
      "  [18 10]\n",
      "  [ 8 17]]\n",
      "\n",
      " [[11  5]\n",
      "  [ 2  9]\n",
      "  [11  6]\n",
      "  [10 10]]]\n"
     ]
    }
   ],
   "source": [
    "import numpy as np\n",
    "print(\"two-dimensional array\")\n",
    "two_d_array = np.random.randint(1,20, size = (4,6))\n",
    "print(two_d_array)\n",
    "print(\"\\nthree-dimensional array\")\n",
    "three_d_array = np.reshape(two_d_array,(3,4,2))\n",
    "print(three_d_array)"
   ]
  },
  {
   "cell_type": "raw",
   "metadata": {},
   "source": [
    " Let’s try to reshape a NumPy array in a way that the product of dimensions\n",
    " does not match. In the script below, the shape of the original array is (4,6).\n",
    " Next, you try to reshape this array to the shape (1,4,2). In this case, since\n",
    " the product of dimensions of the original and the reshaped array don’t match,\n",
    " you will see an error in the output.\n"
   ]
  },
  {
   "cell_type": "code",
   "execution_count": 2,
   "metadata": {},
   "outputs": [
    {
     "name": "stdout",
     "output_type": "stream",
     "text": [
      "two-dimensional array\n",
      "[[13  8  3 10 11  3]\n",
      " [ 9 12  9  5 17  5]\n",
      " [ 8  9 14  7  8 15]\n",
      " [ 4 18 15  3  7 12]]\n",
      "\n",
      "three-dimensional array\n"
     ]
    },
    {
     "ename": "ValueError",
     "evalue": "cannot reshape array of size 24 into shape (1,4,2)",
     "output_type": "error",
     "traceback": [
      "\u001b[1;31m---------------------------------------------------------------------------\u001b[0m",
      "\u001b[1;31mValueError\u001b[0m                                Traceback (most recent call last)",
      "\u001b[1;32m<ipython-input-2-cdb79a10a13d>\u001b[0m in \u001b[0;36m<module>\u001b[1;34m\u001b[0m\n\u001b[0;32m      3\u001b[0m \u001b[0mprint\u001b[0m\u001b[1;33m(\u001b[0m\u001b[0mtwo_d_array\u001b[0m\u001b[1;33m)\u001b[0m\u001b[1;33m\u001b[0m\u001b[1;33m\u001b[0m\u001b[0m\n\u001b[0;32m      4\u001b[0m \u001b[0mprint\u001b[0m\u001b[1;33m(\u001b[0m\u001b[1;34m\"\\nthree-dimensional array\"\u001b[0m\u001b[1;33m)\u001b[0m\u001b[1;33m\u001b[0m\u001b[1;33m\u001b[0m\u001b[0m\n\u001b[1;32m----> 5\u001b[1;33m \u001b[0mthree_d_array\u001b[0m \u001b[1;33m=\u001b[0m \u001b[0mnp\u001b[0m\u001b[1;33m.\u001b[0m\u001b[0mreshape\u001b[0m\u001b[1;33m(\u001b[0m\u001b[0mtwo_d_array\u001b[0m\u001b[1;33m,\u001b[0m\u001b[1;33m(\u001b[0m\u001b[1;36m1\u001b[0m\u001b[1;33m,\u001b[0m\u001b[1;36m4\u001b[0m\u001b[1;33m,\u001b[0m\u001b[1;36m2\u001b[0m\u001b[1;33m)\u001b[0m\u001b[1;33m)\u001b[0m\u001b[1;33m\u001b[0m\u001b[1;33m\u001b[0m\u001b[0m\n\u001b[0m\u001b[0;32m      6\u001b[0m \u001b[0mprint\u001b[0m\u001b[1;33m(\u001b[0m\u001b[0mthree_d_array\u001b[0m\u001b[1;33m)\u001b[0m\u001b[1;33m\u001b[0m\u001b[1;33m\u001b[0m\u001b[0m\n",
      "\u001b[1;32m<__array_function__ internals>\u001b[0m in \u001b[0;36mreshape\u001b[1;34m(*args, **kwargs)\u001b[0m\n",
      "\u001b[1;32m~\\anaconda3\\lib\\site-packages\\numpy\\core\\fromnumeric.py\u001b[0m in \u001b[0;36mreshape\u001b[1;34m(a, newshape, order)\u001b[0m\n\u001b[0;32m    297\u001b[0m            [5, 6]])\n\u001b[0;32m    298\u001b[0m     \"\"\"\n\u001b[1;32m--> 299\u001b[1;33m     \u001b[1;32mreturn\u001b[0m \u001b[0m_wrapfunc\u001b[0m\u001b[1;33m(\u001b[0m\u001b[0ma\u001b[0m\u001b[1;33m,\u001b[0m \u001b[1;34m'reshape'\u001b[0m\u001b[1;33m,\u001b[0m \u001b[0mnewshape\u001b[0m\u001b[1;33m,\u001b[0m \u001b[0morder\u001b[0m\u001b[1;33m=\u001b[0m\u001b[0morder\u001b[0m\u001b[1;33m)\u001b[0m\u001b[1;33m\u001b[0m\u001b[1;33m\u001b[0m\u001b[0m\n\u001b[0m\u001b[0;32m    300\u001b[0m \u001b[1;33m\u001b[0m\u001b[0m\n\u001b[0;32m    301\u001b[0m \u001b[1;33m\u001b[0m\u001b[0m\n",
      "\u001b[1;32m~\\anaconda3\\lib\\site-packages\\numpy\\core\\fromnumeric.py\u001b[0m in \u001b[0;36m_wrapfunc\u001b[1;34m(obj, method, *args, **kwds)\u001b[0m\n\u001b[0;32m     56\u001b[0m \u001b[1;33m\u001b[0m\u001b[0m\n\u001b[0;32m     57\u001b[0m     \u001b[1;32mtry\u001b[0m\u001b[1;33m:\u001b[0m\u001b[1;33m\u001b[0m\u001b[1;33m\u001b[0m\u001b[0m\n\u001b[1;32m---> 58\u001b[1;33m         \u001b[1;32mreturn\u001b[0m \u001b[0mbound\u001b[0m\u001b[1;33m(\u001b[0m\u001b[1;33m*\u001b[0m\u001b[0margs\u001b[0m\u001b[1;33m,\u001b[0m \u001b[1;33m**\u001b[0m\u001b[0mkwds\u001b[0m\u001b[1;33m)\u001b[0m\u001b[1;33m\u001b[0m\u001b[1;33m\u001b[0m\u001b[0m\n\u001b[0m\u001b[0;32m     59\u001b[0m     \u001b[1;32mexcept\u001b[0m \u001b[0mTypeError\u001b[0m\u001b[1;33m:\u001b[0m\u001b[1;33m\u001b[0m\u001b[1;33m\u001b[0m\u001b[0m\n\u001b[0;32m     60\u001b[0m         \u001b[1;31m# A TypeError occurs if the object does have such a method in its\u001b[0m\u001b[1;33m\u001b[0m\u001b[1;33m\u001b[0m\u001b[1;33m\u001b[0m\u001b[0m\n",
      "\u001b[1;31mValueError\u001b[0m: cannot reshape array of size 24 into shape (1,4,2)"
     ]
    }
   ],
   "source": [
    "print(\"two-dimensional array\")\n",
    "two_d_array = np.random.randint(1,20, size = (4,6))\n",
    "print(two_d_array)\n",
    "print(\"\\nthree-dimensional array\")\n",
    "three_d_array = np.reshape(two_d_array,(1,4,2))\n",
    "print(three_d_array)"
   ]
  },
  {
   "cell_type": "raw",
   "metadata": {},
   "source": [
    " Let’s now see a few examples of reshaping NumPy arrays from higher to\n",
    " lower dimensions. In the script below, the original array is of shape (4,6)\n",
    " while the new array is of shape (24). The reshaping, in this case, will be successful\n",
    " since the product of dimensions for original and reshaped arrays is the same."
   ]
  },
  {
   "cell_type": "code",
   "execution_count": 5,
   "metadata": {},
   "outputs": [
    {
     "name": "stdout",
     "output_type": "stream",
     "text": [
      "two-dimensional array\n",
      "[[ 3 17  3  8 13 16]\n",
      " [19 17  2  4 18 17]\n",
      " [14  1 10  9  1 11]\n",
      " [ 8  2 16 11  2  6]]\n",
      "\n",
      "one-dimensional array\n",
      "[ 3 17  3  8 13 16 19 17  2  4 18 17 14  1 10  9  1 11  8  2 16 11  2  6]\n"
     ]
    }
   ],
   "source": [
    "print(\"two-dimensional array\")\n",
    "two_d_array = np.random.randint(1,20, size = (4,6))\n",
    "print(two_d_array)\n",
    "print(\"\\none-dimensional array\")\n",
    "one_d_array = two_d_array.reshape(24)\n",
    "print(one_d_array)\n"
   ]
  },
  {
   "cell_type": "code",
   "execution_count": 6,
   "metadata": {},
   "outputs": [
    {
     "name": "stdout",
     "output_type": "stream",
     "text": [
      "[[ 3 17  3  8 13 16 19 17  2  4 18 17 14  1 10  9  1 11  8  2 16 11  2  6]]\n"
     ]
    }
   ],
   "source": [
    "one_d_array = two_d_array.reshape(1,24)\n",
    "print(one_d_array)"
   ]
  },
  {
   "cell_type": "code",
   "execution_count": 7,
   "metadata": {},
   "outputs": [
    {
     "name": "stdout",
     "output_type": "stream",
     "text": [
      "[[ 3]\n",
      " [17]\n",
      " [ 3]\n",
      " [ 8]\n",
      " [13]\n",
      " [16]\n",
      " [19]\n",
      " [17]\n",
      " [ 2]\n",
      " [ 4]\n",
      " [18]\n",
      " [17]\n",
      " [14]\n",
      " [ 1]\n",
      " [10]\n",
      " [ 9]\n",
      " [ 1]\n",
      " [11]\n",
      " [ 8]\n",
      " [ 2]\n",
      " [16]\n",
      " [11]\n",
      " [ 2]\n",
      " [ 6]]\n"
     ]
    }
   ],
   "source": [
    "one_d_array = two_d_array.reshape(24,1)\n",
    "print(one_d_array)"
   ]
  },
  {
   "cell_type": "raw",
   "metadata": {},
   "source": [
    " Finally, to convert an array of any dimensions to a flat, one-dimensional\n",
    " array, you will need to pass —1 as the argument for the reshaped function, as\n",
    " shown in the script below, which converts a two-dimensional array to a one dimensional\n",
    " array.\n"
   ]
  },
  {
   "cell_type": "code",
   "execution_count": 8,
   "metadata": {},
   "outputs": [
    {
     "name": "stdout",
     "output_type": "stream",
     "text": [
      "two-dimensional array\n",
      "[[12  7  8 12  6 18]\n",
      " [16  3  3  5 12  8]\n",
      " [ 4  2 11  9 14  6]\n",
      " [15  2  7 18 11 11]]\n",
      "\n",
      "one-dimensional array\n",
      "[12  7  8 12  6 18 16  3  3  5 12  8  4  2 11  9 14  6 15  2  7 18 11 11]\n"
     ]
    }
   ],
   "source": [
    "print(\"two-dimensional array\")\n",
    "two_d_array = np.random.randint(1,20, size = (4,6))\n",
    "print(two_d_array)\n",
    "print(\"\\none-dimensional array\")\n",
    "one_d_array = two_d_array.reshape(-1)\n",
    "print(one_d_array)"
   ]
  },
  {
   "cell_type": "code",
   "execution_count": 9,
   "metadata": {},
   "outputs": [
    {
     "ename": "ValueError",
     "evalue": "cannot reshape array of size 24 into shape (1,)",
     "output_type": "error",
     "traceback": [
      "\u001b[1;31m---------------------------------------------------------------------------\u001b[0m",
      "\u001b[1;31mValueError\u001b[0m                                Traceback (most recent call last)",
      "\u001b[1;32m<ipython-input-9-223041a23596>\u001b[0m in \u001b[0;36m<module>\u001b[1;34m\u001b[0m\n\u001b[1;32m----> 1\u001b[1;33m \u001b[0mone_d_array\u001b[0m \u001b[1;33m=\u001b[0m \u001b[0mtwo_d_array\u001b[0m\u001b[1;33m.\u001b[0m\u001b[0mreshape\u001b[0m\u001b[1;33m(\u001b[0m\u001b[1;36m1\u001b[0m\u001b[1;33m)\u001b[0m\u001b[1;33m\u001b[0m\u001b[1;33m\u001b[0m\u001b[0m\n\u001b[0m\u001b[0;32m      2\u001b[0m \u001b[0mprint\u001b[0m\u001b[1;33m(\u001b[0m\u001b[0mone_d_array\u001b[0m\u001b[1;33m)\u001b[0m\u001b[1;33m\u001b[0m\u001b[1;33m\u001b[0m\u001b[0m\n",
      "\u001b[1;31mValueError\u001b[0m: cannot reshape array of size 24 into shape (1,)"
     ]
    }
   ],
   "source": [
    "# If u pass 1 instead of -1, it will show an error.\n",
    "one_d_array = two_d_array.reshape(1)\n",
    "print(one_d_array)"
   ]
  },
  {
   "cell_type": "raw",
   "metadata": {},
   "source": [
    " Similarly, the following script converts a three-dimensional array to a one dimensional array."
   ]
  },
  {
   "cell_type": "code",
   "execution_count": 13,
   "metadata": {},
   "outputs": [
    {
     "name": "stdout",
     "output_type": "stream",
     "text": [
      "two-dimensional array\n",
      "[[[ 1 15 12 14  4  5]\n",
      "  [ 5 13  3 13 15  3]]\n",
      "\n",
      " [[ 2 14  3  5 16 11]\n",
      "  [15  7  1 11  4 19]]\n",
      "\n",
      " [[ 3  2  8 14 11 17]\n",
      "  [ 6 11  3  1 16 16]]\n",
      "\n",
      " [[ 2 14 13  6 17 13]\n",
      "  [ 8  7 14  1  2 12]]\n",
      "\n",
      " [[ 4  1 14 13  3 14]\n",
      "  [10  7 11  9 10 10]]]\n",
      "\n",
      "on-dimensional array\n",
      "[ 1 15 12 14  4  5  5 13  3 13 15  3  2 14  3  5 16 11 15  7  1 11  4 19\n",
      "  3  2  8 14 11 17  6 11  3  1 16 16  2 14 13  6 17 13  8  7 14  1  2 12\n",
      "  4  1 14 13  3 14 10  7 11  9 10 10]\n"
     ]
    }
   ],
   "source": [
    "print(\"two-dimensional array\")\n",
    "three_d_array = np.random.randint(1,20, size = (5,2,6))\n",
    "print(three_d_array)\n",
    "print(\"\\non-dimensional array\")\n",
    "one_d_array = three_d_array .reshape(-1)\n",
    "print(one_d_array)\n"
   ]
  },
  {
   "cell_type": "raw",
   "metadata": {},
   "source": [
    " NumPy arrays can be indexed and sliced. Slicing an array means dividing an\n",
    " array into multiple parts. NumPy arrays are indexed just like normal lists.\n",
    " Indexes in NumPy arrays start from 0, which means that the first item of a\n",
    " NumPy array is stored at the 0th index. The following script creates a simple\n",
    " NumPy array of the first 10 positive integers."
   ]
  },
  {
   "cell_type": "code",
   "execution_count": 14,
   "metadata": {},
   "outputs": [
    {
     "name": "stdout",
     "output_type": "stream",
     "text": [
      "[ 1  2  3  4  5  6  7  8  9 10]\n"
     ]
    }
   ],
   "source": [
    "s = np.arange(1,11)\n",
    "print(s)"
   ]
  },
  {
   "cell_type": "code",
   "execution_count": 15,
   "metadata": {},
   "outputs": [
    {
     "name": "stdout",
     "output_type": "stream",
     "text": [
      "[ 1  2  3  4  5  6  7  8  9 10]\n",
      "2\n"
     ]
    }
   ],
   "source": [
    "# The item at index one can be accessed as follows:\n",
    "import numpy as np\n",
    "s = np.arange(1,11)\n",
    "print(s)\n",
    "print(s[1])"
   ]
  },
  {
   "cell_type": "code",
   "execution_count": 16,
   "metadata": {},
   "outputs": [
    {
     "name": "stdout",
     "output_type": "stream",
     "text": [
      "[ 1  2  3  4  5  6  7  8  9 10]\n",
      "[2 3 4 5 6 7 8 9]\n"
     ]
    }
   ],
   "source": [
    "# To slice an array, you have to pass the lower index, followed by a colon and\n",
    "# the upper index. The items from the lower index (inclusive) to the upper\n",
    "# index (exclusive) will be filtered. The following script slices the array “s”\n",
    "# from the 1st index to the 9th index. The elements from index 1 to 8 are\n",
    "# printed in the output.\n",
    "\n",
    "s = np.arange(1,11)\n",
    "print(s)\n",
    "print(s[1:9])"
   ]
  },
  {
   "cell_type": "code",
   "execution_count": 17,
   "metadata": {},
   "outputs": [
    {
     "name": "stdout",
     "output_type": "stream",
     "text": [
      "[ 1  2  3  4  5  6  7  8  9 10]\n",
      "[1 2 3 4 5]\n",
      "[ 6  7  8  9 10]\n"
     ]
    }
   ],
   "source": [
    "# If you specify only the upper bound, all the items from the first index to the\n",
    "# upper bound are returned. Similarly, if you specify only the lower bound, all\n",
    "# the items from the lower bound to the last item of the array are returned.\n",
    "\n",
    "s = np.arange(1,11)\n",
    "print(s)\n",
    "print(s[:5])\n",
    "print(s[5:])"
   ]
  },
  {
   "cell_type": "code",
   "execution_count": 18,
   "metadata": {},
   "outputs": [
    {
     "name": "stdout",
     "output_type": "stream",
     "text": [
      "[[10 12 13]\n",
      " [45 32 16]]\n"
     ]
    }
   ],
   "source": [
    "# Array slicing can also be applied on a two-dimensional array. To do so, you\n",
    "# have to apply slicing on arrays and columns separately. A comma separates\n",
    "# the rows and columns slicing. In the following script, the rows from the\n",
    "# first and second indexes are returned, while all the columns are returned.\n",
    "# You can see the first two complete rows in the output.\n",
    "\n",
    "row1 = [10,12,13]\n",
    "row2 = [45,32,16]\n",
    "row3 = [45,32,16]\n",
    "nums_2d = np.array([row1, row2, row3])\n",
    "print(nums_2d[:2,:])"
   ]
  },
  {
   "cell_type": "code",
   "execution_count": null,
   "metadata": {},
   "outputs": [],
   "source": []
  }
 ],
 "metadata": {
  "kernelspec": {
   "display_name": "Python 3",
   "language": "python",
   "name": "python3"
  },
  "language_info": {
   "codemirror_mode": {
    "name": "ipython",
    "version": 3
   },
   "file_extension": ".py",
   "mimetype": "text/x-python",
   "name": "python",
   "nbconvert_exporter": "python",
   "pygments_lexer": "ipython3",
   "version": "3.8.5"
  }
 },
 "nbformat": 4,
 "nbformat_minor": 4
}
